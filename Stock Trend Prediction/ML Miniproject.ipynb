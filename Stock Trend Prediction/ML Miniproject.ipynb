{
 "cells": [
  {
   "cell_type": "markdown",
   "id": "536c94e8",
   "metadata": {},
   "source": [
    "## DT"
   ]
  },
  {
   "cell_type": "code",
   "execution_count": 6,
   "id": "af94abfb",
   "metadata": {},
   "outputs": [
    {
     "name": "stdout",
     "output_type": "stream",
     "text": [
      "0.673469387755102\n",
      "0.6305732484076433\n",
      "Accuracy: 73.5\n"
     ]
    }
   ],
   "source": [
    "from sklearn.model_selection import train_test_split \n",
    "\n",
    "from sklearn.tree import DecisionTreeClassifier\n",
    "\n",
    "from sklearn.metrics import accuracy_score,precision_score,recall_score \n",
    "\n",
    "import pandas as pd\n",
    "\n",
    "model = pd.read_csv(\"AXISBANK.csv\")\n",
    "\n",
    "meanv=model['Moving Avg'].mean()\n",
    "\n",
    "model['Moving Avg'].fillna(value=meanv,inplace=True)\n",
    "\n",
    "\n",
    "x=model.iloc[:,:-1].values\n",
    "y=model.iloc[:,-1].values\n",
    "\n",
    "X_train, X_test, y_train, y_test = train_test_split(x, y, test_size=0.2, random_state=42) \n",
    "\n",
    "\n",
    "\n",
    "dt = DecisionTreeClassifier(criterion='entropy',random_state=40)\n",
    "\n",
    "\n",
    "dt.fit(X_train, y_train) \n",
    "\n",
    "\n",
    "y_pred = dt.predict(X_test) \n",
    "\n",
    " \n",
    "\n",
    "dtaccuracy = accuracy_score(y_test, y_pred) \n",
    "prec = precision_score(y_test, y_pred)\n",
    "print(prec)\n",
    "rec = recall_score(y_test, y_pred)\n",
    "print(rec)\n",
    "print(\"Accuracy:\", dtaccuracy*100) "
   ]
  },
  {
   "cell_type": "markdown",
   "id": "2c3b35d5",
   "metadata": {},
   "source": [
    "## SVM"
   ]
  },
  {
   "cell_type": "code",
   "execution_count": 3,
   "id": "28fabdf5",
   "metadata": {},
   "outputs": [
    {
     "name": "stdout",
     "output_type": "stream",
     "text": [
      "Accuracy: 63.5\n"
     ]
    }
   ],
   "source": [
    "import pandas as pd\n",
    "\n",
    "from sklearn.model_selection import train_test_split \n",
    "\n",
    "from sklearn.svm import SVC \n",
    "\n",
    "from sklearn.metrics import accuracy_score \n",
    "\n",
    "\n",
    "model = pd.read_csv(\"AXISBANK.csv\")\n",
    "\n",
    "meanv=model['Moving Avg'].mean()\n",
    "\n",
    "model['Moving Avg'].fillna(value=meanv,inplace=True)\n",
    "\n",
    "\n",
    "\n",
    "x=model.iloc[:,:-1].values\n",
    "y=model.iloc[:,-1].values\n",
    "\n",
    "\n",
    "\n",
    "X_train, X_test, y_train, y_test = train_test_split(x,y, test_size=0.2, random_state=42) \n",
    "\n",
    "\n",
    "\n",
    "clf = SVC(kernel='rbf') \n",
    "\n",
    "\n",
    "clf.fit(X_train, y_train) \n",
    "\n",
    "\n",
    "y_pred = clf.predict(X_test) \n",
    "\n",
    "\n",
    "svmaccuracy = accuracy_score(y_test, y_pred) \n",
    "\n",
    "\n",
    "print(\"Accuracy:\", svmaccuracy*100) "
   ]
  },
  {
   "cell_type": "markdown",
   "id": "5036cdf0",
   "metadata": {},
   "source": [
    "## RF"
   ]
  },
  {
   "cell_type": "code",
   "execution_count": 4,
   "id": "e9b0b143",
   "metadata": {},
   "outputs": [
    {
     "name": "stdout",
     "output_type": "stream",
     "text": [
      "Accuracy: 73.50\n"
     ]
    }
   ],
   "source": [
    "from sklearn.datasets import load_iris \n",
    "\n",
    "from sklearn.model_selection import train_test_split \n",
    "\n",
    "from sklearn.ensemble import RandomForestClassifier \n",
    "\n",
    "import pandas as pd\n",
    "\n",
    "\n",
    "model = pd.read_csv(\"AXISBANK.csv\")\n",
    "\n",
    "meanv=model['Moving Avg'].mean()\n",
    "\n",
    "model['Moving Avg'].fillna(value=meanv,inplace=True)\n",
    "\n",
    "\n",
    "x=model.iloc[:,:-1].values\n",
    "y=model.iloc[:,-1].values\n",
    "\n",
    "\n",
    "x_train, x_test, y_train, y_test = train_test_split(x, y, test_size=0.2, random_state=42) \n",
    "\n",
    "\n",
    "\n",
    "rf = RandomForestClassifier(n_estimators=100, random_state=42) \n",
    "\n",
    "\n",
    "rf.fit(x_train, y_train) \n",
    "\n",
    "\n",
    "y_pred = rf.predict(x_test) \n",
    " \n",
    "\n",
    "rfaccuracy = accuracy_score(y_test, y_pred) \n",
    "\n",
    "print(\"Accuracy: {:.2f}\".format(rfaccuracy*100)) \n"
   ]
  },
  {
   "cell_type": "markdown",
   "id": "b1197fd2",
   "metadata": {},
   "source": [
    "## LR"
   ]
  },
  {
   "cell_type": "code",
   "execution_count": 5,
   "id": "894af52c",
   "metadata": {},
   "outputs": [
    {
     "name": "stdout",
     "output_type": "stream",
     "text": [
      "Accuracy: 60.25%\n"
     ]
    }
   ],
   "source": [
    "from sklearn.model_selection import train_test_split\n",
    "\n",
    "from sklearn.linear_model import LogisticRegression\n",
    "\n",
    "import pandas as pd\n",
    "\n",
    "model = pd.read_csv(\"AXISBANK.csv\")\n",
    "\n",
    "meanv=model['Moving Avg'].mean()\n",
    "\n",
    "model['Moving Avg'].fillna(value=meanv,inplace=True)\n",
    "\n",
    "\n",
    "X=model.iloc[:,:-1].values\n",
    "y=model.iloc[:,-1].values\n",
    "# Split the data into training and test sets \n",
    "\n",
    "X_train, X_test, y_train, y_test = train_test_split(X, y, test_size=0.2) \n",
    "\n",
    "\n",
    "lr = LogisticRegression()\n",
    "\n",
    "lr.fit(X_train, y_train) \n",
    "\n",
    "lraccuracy = lr.score(X_test, y_test) \n",
    "\n",
    "print(\"Accuracy: {:.2f}%\".format(lraccuracy * 100))  "
   ]
  },
  {
   "cell_type": "markdown",
   "id": "af004adf",
   "metadata": {},
   "source": [
    "## KNN"
   ]
  },
  {
   "cell_type": "code",
   "execution_count": 6,
   "id": "bdb70340",
   "metadata": {},
   "outputs": [
    {
     "name": "stdout",
     "output_type": "stream",
     "text": [
      "Accuracy: 57.75%\n"
     ]
    }
   ],
   "source": [
    "from sklearn.model_selection import train_test_split \n",
    "import pandas as pd\n",
    "\n",
    "model = pd.read_csv(\"AXISBANK.csv\")\n",
    "\n",
    "meanv=model['Moving Avg'].mean()\n",
    "\n",
    "model['Moving Avg'].fillna(value=meanv,inplace=True)\n",
    "\n",
    "\n",
    "X=model.iloc[:,:-1].values\n",
    "y=model.iloc[:,-1].values\n",
    "\n",
    "\n",
    "X_train, X_test, y_train, y_test = train_test_split(X, y, test_size=0.2) \n",
    "\n",
    " \n",
    "\n",
    "from sklearn.neighbors import KNeighborsClassifier \n",
    "\n",
    "\n",
    "knn = KNeighborsClassifier(n_neighbors=5) \n",
    "\n",
    "knn.fit(X_train, y_train) \n",
    "\n",
    "\n",
    "knnaccuracy = knn.score(X_test, y_test) \n",
    "\n",
    "print(\"Accuracy: {:.2f}%\".format(knnaccuracy * 100)) "
   ]
  },
  {
   "cell_type": "code",
   "execution_count": 7,
   "id": "2a5770bd",
   "metadata": {},
   "outputs": [
    {
     "data": {
      "text/plain": [
       "[<matplotlib.lines.Line2D at 0x24a2881f730>]"
      ]
     },
     "execution_count": 7,
     "metadata": {},
     "output_type": "execute_result"
    },
    {
     "data": {
      "image/png": "[encoded data removed]",
      "text/plain": [
       "<Figure size 432x288 with 1 Axes>"
      ]
     },
     "metadata": {
      "needs_background": "light"
     },
     "output_type": "display_data"
    }
   ],
   "source": [
    "import matplotlib.pyplot as plt\n",
    "x=['Decision Tree','KNN','SVM','RF','LR']\n",
    "y=[73.5,56,63.5,73.5,60.5]\n",
    "plt.ylim(10,100)\n",
    "plt.ylabel(\"Percentage\")\n",
    "plt.xlabel(\"Accuracy Score\")\n",
    "plt.plot(x,y)"
   ]
  },
  {
   "cell_type": "code",
   "execution_count": 8,
   "id": "7abd14f0",
   "metadata": {},
   "outputs": [],
   "source": [
    "from sklearn.ensemble import VotingClassifier\n",
    "model = pd.read_csv(\"AXISBANK.csv\")\n",
    "\n",
    "meanv=model['Moving Avg'].mean()\n",
    "\n",
    "model['Moving Avg'].fillna(value=meanv,inplace=True)\n",
    "\n",
    "X=model.iloc[:,:-1].values\n",
    "y=model.iloc[:,-1].values\n",
    "\n",
    "tree = DecisionTreeClassifier(max_depth=3)\n",
    "rf = RandomForestClassifier(n_estimators=100)\n",
    "lr = LogisticRegression(max_iter=100)\n",
    "knn = KNeighborsClassifier(n_neighbors=3)\n",
    "svm = SVC(kernel='rbf')"
   ]
  },
  {
   "cell_type": "code",
   "execution_count": 9,
   "id": "4a28fccb",
   "metadata": {},
   "outputs": [],
   "source": [
    "X_train,X_test,y_train,y_test = train_test_split(X,y,test_size=0.2,random_state=44)\n",
    "mod = VotingClassifier(estimators=[('tree',tree),('rf',rf),('lr',lr),('knn',knn),('svm',svm)],voting='hard')"
   ]
  },
  {
   "cell_type": "code",
   "execution_count": 10,
   "id": "a3860396",
   "metadata": {},
   "outputs": [
    {
     "name": "stdout",
     "output_type": "stream",
     "text": [
      "Accuracy=  64.25\n"
     ]
    }
   ],
   "source": [
    "mod.fit(X_train,y_train)\n",
    "\n",
    "y_pred = mod.predict(X_test)\n",
    "\n",
    "acc = accuracy_score(y_test,y_pred)\n",
    "\n",
    "print(\"Accuracy= \", acc*100)"
   ]
  },
  {
   "cell_type": "code",
   "execution_count": null,
   "id": "cbd93d74",
   "metadata": {},
   "outputs": [],
   "source": [
    "import matplotlib.pyplot as plt \n",
    "\n",
    "acc= [73.5,73.5,73.5,73.5,73.5,73.5,73.5,73.5,73.5,73.5]\n",
    "pres=[67.3,67.3,67.3,67.3,67.3,67.3,67.3,67.3,67.3,67.3]\n",
    "rec=[63.05,63.05,63.05,63.05,63.05,63.05,63.05,63.05,63.05,63.05]\n",
    "\n",
    "plt.xticks([1,2,3,4,5,6,7,8,9,10])\n",
    "plt.plot(acc)\n",
    "plt.plot(pres)\n",
    "plt.plot(rec)\n",
    "plt.xlabel('Iteration')\n",
    "plt.ylabel('Value in %')\n",
    "plt.title('Logistic Regression')"
   ]
  }
 ],
 "metadata": {
  "kernelspec": {
   "display_name": "Python 3 (ipykernel)",
   "language": "python",
   "name": "python3"
  },
  "language_info": {
   "codemirror_mode": {
    "name": "ipython",
    "version": 3
   },
   "file_extension": ".py",
   "mimetype": "text/x-python",
   "name": "python",
   "nbconvert_exporter": "python",
   "pygments_lexer": "ipython3",
   "version": "3.9.7"
  }
 },
 "nbformat": 4,
 "nbformat_minor": 5
}
